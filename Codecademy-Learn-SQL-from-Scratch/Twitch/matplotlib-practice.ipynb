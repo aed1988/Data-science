{
 "cells": [
  {
   "cell_type": "code",
   "execution_count": 1,
   "id": "coral-basement",
   "metadata": {},
   "outputs": [],
   "source": [
    "import pandas as pd\n",
    "import matplotlib as plt"
   ]
  },
  {
   "cell_type": "code",
   "execution_count": 2,
   "id": "operational-barrier",
   "metadata": {},
   "outputs": [
    {
     "name": "stdout",
     "output_type": "stream",
     "text": [
      "<class 'pandas.core.frame.DataFrame'>\n",
      "RangeIndex: 148562 entries, 0 to 148561\n",
      "Data columns (total 7 columns):\n",
      " #   Column     Non-Null Count   Dtype \n",
      "---  ------     --------------   ----- \n",
      " 0   time       148562 non-null  object\n",
      " 1   device_id  148560 non-null  object\n",
      " 2   login      148562 non-null  object\n",
      " 3   channel    148562 non-null  object\n",
      " 4   country    142641 non-null  object\n",
      " 5   player     37536 non-null   object\n",
      " 6   game       148221 non-null  object\n",
      "dtypes: object(7)\n",
      "memory usage: 7.9+ MB\n",
      "None\n",
      "<class 'pandas.core.frame.DataFrame'>\n",
      "RangeIndex: 526299 entries, 0 to 526298\n",
      "Data columns (total 9 columns):\n",
      " #   Column         Non-Null Count   Dtype \n",
      "---  ------         --------------   ----- \n",
      " 0   time           526299 non-null  object\n",
      " 1   device_id      526271 non-null  object\n",
      " 2   login          526299 non-null  object\n",
      " 3   channel        526299 non-null  object\n",
      " 4   country        509135 non-null  object\n",
      " 5   player         526299 non-null  object\n",
      " 6   game           523175 non-null  object\n",
      " 7   stream_format  267332 non-null  object\n",
      " 8   subscriber     273814 non-null  object\n",
      "dtypes: object(9)\n",
      "memory usage: 36.1+ MB\n",
      "None\n"
     ]
    }
   ],
   "source": [
    "chat = pd.read_csv('chat.csv')\n",
    "stream = pd.read_csv('video_play.csv')\n",
    "print(chat.info())\n",
    "print(stream.info())"
   ]
  },
  {
   "cell_type": "code",
   "execution_count": 3,
   "id": "growing-drama",
   "metadata": {},
   "outputs": [
    {
     "data": {
      "text/plain": [
       "array(['League of Legends', 'DayZ', 'Dota 2', 'Heroes of the Storm',\n",
       "       'Counter-Strike: Global Offensive',\n",
       "       'Hearthstone: Heroes of Warcraft', 'The Binding of Isaac: Rebirth',\n",
       "       'Agar.io', 'Gaming Talk Shows', nan, 'Rocket League',\n",
       "       'World of Tanks', 'ARK: Survival Evolved', 'SpeedRunners',\n",
       "       'Breaking Point', 'Duck Game', 'Devil May Cry 4: Special Edition',\n",
       "       'Block N Load', 'Fallout 3', 'Batman: Arkham Knight',\n",
       "       'Reign Of Kings', 'The Witcher 3: Wild Hunt',\n",
       "       'The Elder Scrolls V: Skyrim', 'Super Mario Bros.', 'H1Z1',\n",
       "       'The Last of Us', 'Depth', 'Mortal Kombat X',\n",
       "       'Senran Kagura: Estival Versus', 'The Sims 4',\n",
       "       'You Must Build A Boat', 'Choice Chamber', 'Music', 'Risk of Rain',\n",
       "       'Grand Theft Auto V', 'Besiege', 'Super Mario Bros. 3', 'Hektor',\n",
       "       'Bridge Constructor Medieval', 'Lucius', 'Blackjack',\n",
       "       'Cities: Skylines'], dtype=object)"
      ]
     },
     "execution_count": 3,
     "metadata": {},
     "output_type": "execute_result"
    }
   ],
   "source": [
    "pd.unique(stream.game)"
   ]
  },
  {
   "cell_type": "code",
   "execution_count": 4,
   "id": "republican-lafayette",
   "metadata": {},
   "outputs": [
    {
     "data": {
      "text/plain": [
       "array(['frank', 'george', 'estelle', 'morty', 'kramer', 'jerry', 'helen',\n",
       "       'newman', 'elaine', 'susan'], dtype=object)"
      ]
     },
     "execution_count": 4,
     "metadata": {},
     "output_type": "execute_result"
    }
   ],
   "source": [
    "pd.unique(stream.channel)"
   ]
  },
  {
   "cell_type": "code",
   "execution_count": 5,
   "id": "historical-cotton",
   "metadata": {},
   "outputs": [
    {
     "data": {
      "text/plain": [
       "League of Legends                   48066\n",
       "Dota 2                              26498\n",
       "Gaming Talk Shows                   15743\n",
       "Counter-Strike: Global Offensive    10666\n",
       "DayZ                                10146\n",
       "Hearthstone: Heroes of Warcraft      9840\n",
       "Heroes of the Storm                  8913\n",
       "World of Tanks                       6748\n",
       "The Binding of Isaac: Rebirth        5532\n",
       "Agar.io                              2270\n",
       "Devil May Cry 4: Special Edition     1729\n",
       "Rocket League                         991\n",
       "ARK: Survival Evolved                 470\n",
       "SpeedRunners                          400\n",
       "Grand Theft Auto V                     76\n",
       "Duck Game                              75\n",
       "Fallout 3                              53\n",
       "Batman: Arkham Knight                   3\n",
       "Breaking Point                          1\n",
       "Depth                                   1\n",
       "Name: game, dtype: int64"
      ]
     },
     "execution_count": 5,
     "metadata": {},
     "output_type": "execute_result"
    }
   ],
   "source": [
    "chat.game.value_counts()"
   ]
  },
  {
   "cell_type": "code",
   "execution_count": 6,
   "id": "accepting-anchor",
   "metadata": {},
   "outputs": [
    {
     "name": "stdout",
     "output_type": "stream",
     "text": [
      "US    85606\n",
      "CA    13034\n",
      "DE    10835\n",
      "GB     6964\n",
      "TR     4412\n",
      "      ...  \n",
      "SN        1\n",
      "A1        1\n",
      "GY        1\n",
      "GA        1\n",
      "MQ        1\n",
      "Name: country, Length: 155, dtype: int64\n"
     ]
    }
   ],
   "source": [
    "lol_watcher_countries = stream.country[stream.game == 'League of Legends'].value_counts()\n",
    "print(lol_watcher_countries)"
   ]
  },
  {
   "cell_type": "code",
   "execution_count": 7,
   "id": "piano-accounting",
   "metadata": {},
   "outputs": [
    {
     "name": "stdout",
     "output_type": "stream",
     "text": [
      "site             246115\n",
      "iphone_t         100689\n",
      "android           93508\n",
      "ipad_t            53646\n",
      "embed             19819\n",
      "xbox_one           4863\n",
      "home               3479\n",
      "frontpage          1567\n",
      "amazon             1155\n",
      "xbox360             985\n",
      "roku                233\n",
      "chromecast          149\n",
      "facebook             83\n",
      "ouya                  3\n",
      "nvidia shield         3\n",
      "android_pip           2\n",
      "Name: player, dtype: int64\n"
     ]
    }
   ],
   "source": [
    "player_streamer_counts = stream.player.value_counts()\n",
    "print(player_streamer_counts)"
   ]
  },
  {
   "cell_type": "code",
   "execution_count": 16,
   "id": "angry-earthquake",
   "metadata": {},
   "outputs": [],
   "source": [
    "# df.loc[(df['First_name'] == 'Bill') | (df['First_name'] == 'Emma'), 'name_match'] = 'Match' \n",
    "\n",
    "stream.loc[(stream['game'] == 'League of Legends') | (stream['game'] == 'Heroes of the Storm') | (stream['game'] == 'Dota 2'), 'genre'] = 'MOBA'\n",
    "stream.loc[(stream['game'] == 'DayZ') | (stream['game'] == 'ARK: Survival Evolved'), 'genre'] == 'Survival'\n",
    "stream.loc[(stream['game'] == 'Counter-Strike: Global Offensive'), 'genre'] == 'FPS'\n",
    "stream.loc[stream['genre'].isnull(), 'genre'] = 'Other'"
   ]
  },
  {
   "cell_type": "code",
   "execution_count": 37,
   "id": "significant-assets",
   "metadata": {},
   "outputs": [
    {
     "data": {
      "text/plain": [
       "time             datetime64[ns]\n",
       "device_id                object\n",
       "login                    object\n",
       "channel                  object\n",
       "country                  object\n",
       "player                   object\n",
       "game                     object\n",
       "stream_format            object\n",
       "subscriber               object\n",
       "genre                    object\n",
       "dtype: object"
      ]
     },
     "execution_count": 37,
     "metadata": {},
     "output_type": "execute_result"
    }
   ],
   "source": [
    "stream['time'] = pd.to_datetime(stream['time'])\n",
    "stream.dtypes"
   ]
  },
  {
   "cell_type": "code",
   "execution_count": null,
   "id": "polish-confidence",
   "metadata": {},
   "outputs": [],
   "source": []
  }
 ],
 "metadata": {
  "kernelspec": {
   "display_name": "Python 3",
   "language": "python",
   "name": "python3"
  },
  "language_info": {
   "codemirror_mode": {
    "name": "ipython",
    "version": 3
   },
   "file_extension": ".py",
   "mimetype": "text/x-python",
   "name": "python",
   "nbconvert_exporter": "python",
   "pygments_lexer": "ipython3",
   "version": "3.8.5"
  }
 },
 "nbformat": 4,
 "nbformat_minor": 5
}
