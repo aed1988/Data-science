{
 "cells": [
  {
   "cell_type": "markdown",
   "id": "attempted-responsibility",
   "metadata": {},
   "source": [
    "# Jeopardy Project\n",
    "### Working with a given data set to analyze freely\n",
    "[Link to project page](https://www.codecademy.com/paths/data-science/tracks/dscp-data-manipulation-with-pandas/modules/dacp-data-manipulation-challenge-projects/projects/this-is-jeopardy)"
   ]
  },
  {
   "cell_type": "markdown",
   "id": "photographic-simpson",
   "metadata": {},
   "source": [
    "Set some defaults"
   ]
  },
  {
   "cell_type": "code",
   "execution_count": 1,
   "id": "impressed-treasurer",
   "metadata": {},
   "outputs": [],
   "source": [
    "import pandas as pd\n",
    "pd.set_option('display.max_colwidth', None)"
   ]
  },
  {
   "cell_type": "markdown",
   "id": "specified-canberra",
   "metadata": {},
   "source": [
    "Format table"
   ]
  },
  {
   "cell_type": "code",
   "execution_count": 2,
   "id": "another-crisis",
   "metadata": {},
   "outputs": [],
   "source": [
    "jeopardy_df = pd.read_csv('jeopardy.csv', header=0, names=['show_number', 'air_date', 'round', 'category', 'cash_value', 'question', 'answer'], parse_dates=['air_date'])"
   ]
  },
  {
   "cell_type": "markdown",
   "id": "confident-olive",
   "metadata": {},
   "source": [
    "Format columns into seperate columns to make working with easier.  In this case, converting the questions to lower case and formatting the values to float or defaulting the to 0 if not possible to convert to integer."
   ]
  },
  {
   "cell_type": "code",
   "execution_count": 3,
   "id": "sustained-converter",
   "metadata": {},
   "outputs": [],
   "source": [
    "jeopardy_df['question'] = jeopardy_df.apply(lambda x: x.question.lower(), axis=1)"
   ]
  },
  {
   "cell_type": "code",
   "execution_count": 4,
   "id": "decimal-report",
   "metadata": {},
   "outputs": [],
   "source": [
    "def convert_value_to_int(string):\n",
    "    stripped = string.replace(\"$\",\"\").replace(\",\",\"\")\n",
    "    try:\n",
    "        return int(stripped)\n",
    "    except:\n",
    "        return 0\n",
    "jeopardy_df['cash_value'] = jeopardy_df.apply(lambda row: convert_value_to_int(row['cash_value']), axis=1)"
   ]
  },
  {
   "cell_type": "code",
   "execution_count": 5,
   "id": "israeli-challenge",
   "metadata": {},
   "outputs": [
    {
     "name": "stdout",
     "output_type": "stream",
     "text": [
      "   show_number   air_date      round                         category  \\\n",
      "0         4680 2004-12-31  Jeopardy!                          HISTORY   \n",
      "1         4680 2004-12-31  Jeopardy!  ESPN's TOP 10 ALL-TIME ATHLETES   \n",
      "2         4680 2004-12-31  Jeopardy!      EVERYBODY TALKS ABOUT IT...   \n",
      "3         4680 2004-12-31  Jeopardy!                 THE COMPANY LINE   \n",
      "4         4680 2004-12-31  Jeopardy!              EPITAPHS & TRIBUTES   \n",
      "\n",
      "   cash_value  \\\n",
      "0         200   \n",
      "1         200   \n",
      "2         200   \n",
      "3         200   \n",
      "4         200   \n",
      "\n",
      "                                                                                                      question  \\\n",
      "0             for the last 8 years of his life, galileo was under house arrest for espousing this man's theory   \n",
      "1  no. 2: 1912 olympian; football star at carlisle indian school; 6 mlb seasons with the reds, giants & braves   \n",
      "2                     the city of yuma in this state has a record average of 4,055 hours of sunshine each year   \n",
      "3                         in 1963, live on \"the art linkletter show\", this company served its billionth burger   \n",
      "4     signer of the dec. of indep., framer of the constitution of mass., second president of the united states   \n",
      "\n",
      "       answer  \n",
      "0  Copernicus  \n",
      "1  Jim Thorpe  \n",
      "2     Arizona  \n",
      "3  McDonald's  \n",
      "4  John Adams  \n"
     ]
    }
   ],
   "source": [
    "print(jeopardy_df.head())"
   ]
  },
  {
   "cell_type": "markdown",
   "id": "productive-professional",
   "metadata": {},
   "source": [
    "Writing a function to filter data.  A previous version I attempted would only return the question, but think is much better as it returns all the other columns and these can be used to perform further analysis."
   ]
  },
  {
   "cell_type": "code",
   "execution_count": 6,
   "id": "fundamental-healthcare",
   "metadata": {},
   "outputs": [
    {
     "name": "stdout",
     "output_type": "stream",
     "text": [
      "    show_number   air_date             round                    category  \\\n",
      "34         4680 2004-12-31  Double Jeopardy!                 \"X\"s & \"O\"s   \n",
      "40         4680 2004-12-31  Double Jeopardy!  DR. SEUSS AT THE MULTIPLEX   \n",
      "50         4680 2004-12-31  Double Jeopardy!  DR. SEUSS AT THE MULTIPLEX   \n",
      "56         5957 2010-07-06         Jeopardy!               GEOGRAPHY \"E\"   \n",
      "72         5957 2010-07-06         Jeopardy!                LET'S BOUNCE   \n",
      "\n",
      "    cash_value  \\\n",
      "34         400   \n",
      "40        1200   \n",
      "50        2000   \n",
      "56         200   \n",
      "72         600   \n",
      "\n",
      "                                                                                                                                                                             question  \\\n",
      "34                                                                              around 100 a.d. tacitus wrote a book on how this art of persuasive speaking had declined since cicero   \n",
      "40  <a href=\"http://www.j-archive.com/media/2004-12-31_dj_26.mp3\">ripped from today's headlines, he was a turtle king gone mad; mack was the one good turtle who'd bring him down</a>   \n",
      "50                <a href=\"http://www.j-archive.com/media/2004-12-31_dj_24.mp3\">\"500 hats\"... 500 ways to die.  on july 4th, this young boy will defy a king... & become a legend</a>   \n",
      "56                                                                                                                                     it's the largest kingdom in the united kingdom   \n",
      "72                                                                                        in this kid's game, you bounce a small rubber ball while picking up 6-pronged metal objects   \n",
      "\n",
      "                 answer  \n",
      "34              oratory  \n",
      "40               Yertle  \n",
      "50  Bartholomew Cubbins  \n",
      "56              England  \n",
      "72                jacks  \n"
     ]
    }
   ],
   "source": [
    "def filtered_data(df, lst):\n",
    "    filter = lambda x: all(word.lower() in x.lower() for word in lst)\n",
    "    return df.loc[df['question'].apply(filter)]\n",
    "\n",
    "filtered = filtered_data(jeopardy_df, ['king'])\n",
    "print(filtered.head())"
   ]
  },
  {
   "cell_type": "markdown",
   "id": "interim-stretch",
   "metadata": {},
   "source": [
    "Using the filtered table, we can perform other methods on them to return information.  Here I want to know the count of the unique answers."
   ]
  },
  {
   "cell_type": "code",
   "execution_count": 7,
   "id": "golden-regression",
   "metadata": {},
   "outputs": [
    {
     "data": {
      "text/plain": [
       "Henry VIII            55\n",
       "Solomon               35\n",
       "Richard III           33\n",
       "Louis XIV             31\n",
       "David                 30\n",
       "                      ..\n",
       "AMC                    1\n",
       "Montgomery & Selma     1\n",
       "Mike Wallace           1\n",
       "All thumbs             1\n",
       "Heidi                  1\n",
       "Name: answer, Length: 5268, dtype: int64"
      ]
     },
     "execution_count": 7,
     "metadata": {},
     "output_type": "execute_result"
    }
   ],
   "source": [
    "def count_answers(data):\n",
    "    return data['answer'].value_counts()\n",
    "\n",
    "count_answers(filtered)"
   ]
  },
  {
   "cell_type": "markdown",
   "id": "thick-bullet",
   "metadata": {},
   "source": [
    "Finally, I wanted to calculate the mean value of the cash values in Jeopardy."
   ]
  },
  {
   "cell_type": "code",
   "execution_count": 8,
   "id": "annoying-gnome",
   "metadata": {
    "scrolled": true
   },
   "outputs": [
    {
     "name": "stdout",
     "output_type": "stream",
     "text": [
      "739.9884755451067\n"
     ]
    }
   ],
   "source": [
    "print(jeopardy_df.cash_value.mean())"
   ]
  }
 ],
 "metadata": {
  "kernelspec": {
   "display_name": "Python 3",
   "language": "python",
   "name": "python3"
  },
  "language_info": {
   "codemirror_mode": {
    "name": "ipython",
    "version": 3
   },
   "file_extension": ".py",
   "mimetype": "text/x-python",
   "name": "python",
   "nbconvert_exporter": "python",
   "pygments_lexer": "ipython3",
   "version": "3.8.5"
  }
 },
 "nbformat": 4,
 "nbformat_minor": 5
}
